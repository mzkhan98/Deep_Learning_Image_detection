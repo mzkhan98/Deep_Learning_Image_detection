{
 "cells": [
  {
   "cell_type": "code",
   "execution_count": 1,
   "metadata": {},
   "outputs": [],
   "source": [
    "breeds = [\"beagle\", \"bernese_mountain_dog\", \"doberman\", \"labrador_retriever\", \"siberian_husky\"]"
   ]
  },
  {
   "cell_type": "code",
   "execution_count": 2,
   "metadata": {},
   "outputs": [
    {
     "name": "stderr",
     "output_type": "stream",
     "text": [
      "2023-06-01 08:08:59.048110: W tensorflow/stream_executor/platform/default/dso_loader.cc:64] Could not load dynamic library 'libcudart.so.11.0'; dlerror: libcudart.so.11.0: cannot open shared object file: No such file or directory\n",
      "2023-06-01 08:08:59.048177: I tensorflow/stream_executor/cuda/cudart_stub.cc:29] Ignore above cudart dlerror if you do not have a GPU set up on your machine.\n"
     ]
    }
   ],
   "source": [
    "import tensorflow as tf\n"
   ]
  },
  {
   "cell_type": "code",
   "execution_count": 3,
   "metadata": {},
   "outputs": [],
   "source": [
    "args = {\n",
    "    \"labels\": \"inferred\",                   # How the labels for the dataset will be determined\n",
    "    \"label_mode\": \"categorical\",            # Type of labels used (categorical indicates distinct classes/categories)\n",
    "    \"batch_size\": 32,                       # Number of samples processed in each batch during training/inference\n",
    "    \"image_size\": (256, 256),               # Desired size for the images in the dataset (width, height)\n",
    "    \"seed\": 1,                              # Random seed used for reproducibility\n",
    "    \"validation_split\": .2,                 # Fraction of the dataset used for validation during training\n",
    "    \"class_names\": breeds                   # Class names for the dataset (expected to be a list or array of strings)\n",
    "}"
   ]
  },
  {
   "attachments": {},
   "cell_type": "markdown",
   "metadata": {},
   "source": [
    "Loads in images in directory, and turns them into tensorflow dataset, which will alow us to use the dataset for our Neural Network. The given code utilizes the image_dataset_from_directory function from the tf.keras.utils module to create training and testing datasets from a directory containing image data."
   ]
  },
  {
   "cell_type": "code",
   "execution_count": 4,
   "metadata": {},
   "outputs": [
    {
     "name": "stdout",
     "output_type": "stream",
     "text": [
      "Found 926 files belonging to 5 classes.\n",
      "Using 741 files for training.\n"
     ]
    },
    {
     "name": "stderr",
     "output_type": "stream",
     "text": [
      "2023-06-01 08:24:00.779506: W tensorflow/stream_executor/platform/default/dso_loader.cc:64] Could not load dynamic library 'libcuda.so.1'; dlerror: libcuda.so.1: cannot open shared object file: No such file or directory\n",
      "2023-06-01 08:24:00.779880: W tensorflow/stream_executor/cuda/cuda_driver.cc:269] failed call to cuInit: UNKNOWN ERROR (303)\n",
      "2023-06-01 08:24:00.780574: I tensorflow/stream_executor/cuda/cuda_diagnostics.cc:156] kernel driver does not appear to be running on this host (zainkhan): /proc/driver/nvidia/version does not exist\n",
      "2023-06-01 08:24:00.794778: I tensorflow/core/platform/cpu_feature_guard.cc:193] This TensorFlow binary is optimized with oneAPI Deep Neural Network Library (oneDNN) to use the following CPU instructions in performance-critical operations:  AVX2 FMA\n",
      "To enable them in other operations, rebuild TensorFlow with the appropriate compiler flags.\n"
     ]
    },
    {
     "name": "stdout",
     "output_type": "stream",
     "text": [
      "Found 926 files belonging to 5 classes.\n",
      "Using 185 files for validation.\n"
     ]
    }
   ],
   "source": [
    "train = tf.keras.utils.image_dataset_from_directory(\n",
    "    \"images\",                   # Directory path containing the image data\n",
    "    subset=\"training\",          # Subset of the data to use for training (in this case, the training subset)\n",
    "    **args                      # Additional arguments passed as a dictionary (previously defined in the 'args' variable)\n",
    ")\n",
    "\n",
    "\n",
    "test = tf.keras.utils.image_dataset_from_directory(\n",
    "    \"images\",                   # Directory path containing the image data (same as above)\n",
    "    subset=\"validation\",        # Subset of the data to use for testing/validation\n",
    "    **args                      # Additional arguments passed as a dictionary (same as above)\n",
    ")\n"
   ]
  },
  {
   "cell_type": "code",
   "execution_count": null,
   "metadata": {},
   "outputs": [],
   "source": []
  }
 ],
 "metadata": {
  "kernelspec": {
   "display_name": "base",
   "language": "python",
   "name": "python3"
  },
  "language_info": {
   "codemirror_mode": {
    "name": "ipython",
    "version": 3
   },
   "file_extension": ".py",
   "mimetype": "text/x-python",
   "name": "python",
   "nbconvert_exporter": "python",
   "pygments_lexer": "ipython3",
   "version": "3.9.12"
  },
  "orig_nbformat": 4
 },
 "nbformat": 4,
 "nbformat_minor": 2
}
